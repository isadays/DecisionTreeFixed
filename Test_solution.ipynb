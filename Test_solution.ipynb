{
  "nbformat": 4,
  "nbformat_minor": 0,
  "metadata": {
    "colab": {
      "provenance": [],
      "authorship_tag": "ABX9TyPv/7rY5ZdTH1mGCU1oeEbk",
      "include_colab_link": true
    },
    "kernelspec": {
      "name": "python3",
      "display_name": "Python 3"
    },
    "language_info": {
      "name": "python"
    }
  },
  "cells": [
    {
      "cell_type": "markdown",
      "metadata": {
        "id": "view-in-github",
        "colab_type": "text"
      },
      "source": [
        "<a href=\"https://colab.research.google.com/github/isadays/DecisionTreeFixed/blob/main/Test_solution.ipynb\" target=\"_parent\"><img src=\"https://colab.research.google.com/assets/colab-badge.svg\" alt=\"Open In Colab\"/></a>"
      ]
    },
    {
      "cell_type": "code",
      "execution_count": null,
      "metadata": {
        "id": "FzPV0cBFVr8N"
      },
      "outputs": [],
      "source": [
        "import numpy as np, joblib\n",
        "from sklearn.datasets import make_classification\n",
        "from sklearn.tree import DecisionTreeClassifier\n",
        "\n",
        "# 1) Generate artificial classification data\n",
        "X, y = make_classification(\n",
        "    n_samples=200, n_features=5, n_informative=3,\n",
        "    n_redundant=0, n_classes=3, random_state=42\n",
        ")\n",
        "\n",
        "# 2) Train & save under the current sklearn\n",
        "clf = DecisionTreeClassifier(random_state=0)\n",
        "clf.fit(X, y)\n",
        "MODEL_PATH = \"synthetic_tree.joblib\"\n",
        "joblib.dump(clf, MODEL_PATH)\n",
        "print(\"✅ Trained & saved model under sklearn\", __import__(\"sklearn\").__version__)\n"
      ]
    },
    {
      "cell_type": "code",
      "source": [
        "from IPython import get_ipython\n",
        "import importlib, sklearn\n",
        "\n",
        "# (A1) Downgrade to 1.2.2 in this kernel\n",
        "get_ipython().run_line_magic(\"pip\", \"install --quiet scikit-learn==1.2.2\")\n",
        "importlib.reload(sklearn)\n",
        "print(\"\\n--- A) Running sklearn\", sklearn.__version__, \"(<1.3)\")\n",
        "\n",
        "# (A2) Subclass-patch Tree to inject the missing field on unpickle\n",
        "import sklearn.tree._tree as _tm\n",
        "_orig_Tree = _tm.Tree\n",
        "\n",
        "class PatchedTree(_orig_Tree):\n",
        "    def __setstate__(self, state):\n",
        "        nodes = state.get(\"nodes\")\n",
        "        if nodes is not None and \"missing_go_to_left\" not in nodes.dtype.names:\n",
        "            descr = nodes.dtype.descr + [(\"missing_go_to_left\", \"u1\")]\n",
        "            dt    = np.dtype(descr, align=False)\n",
        "            new   = np.zeros(nodes.shape, dtype=dt)\n",
        "            for f in nodes.dtype.names:\n",
        "                new[f] = nodes[f]\n",
        "            new[\"missing_go_to_left\"] = 0\n",
        "            state[\"nodes\"] = new\n",
        "        super(PatchedTree, self).__setstate__(state)\n",
        "\n",
        "_tm.Tree = PatchedTree\n",
        "print(\"Applied Tree subclass for legacy unpickling\")\n",
        "\n",
        "clf_old = joblib.load(MODEL_PATH)\n",
        "print(\"Leaf indices under <1.3:\", clf_old.apply(X[:5].astype(float)))\n",
        "\n"
      ],
      "metadata": {
        "id": "4WI2K4CvWLi-"
      },
      "execution_count": null,
      "outputs": []
    },
    {
      "cell_type": "code",
      "source": [
        "get_ipython().run_line_magic(\"pip\", \"install --quiet scikit-learn==1.5.2\")\n",
        "importlib.reload(sklearn)\n",
        "print(\"\\n--- B) Running sklearn\", sklearn.__version__, \"(≥1.3)\")\n",
        "\n",
        "clf_new = joblib.load(MODEL_PATH)\n",
        "print(\"Leaf indices under ≥1.3:\", clf_new.apply(X[:5].astype(float)))"
      ],
      "metadata": {
        "id": "iz5a5H8yWemb"
      },
      "execution_count": null,
      "outputs": []
    },
    {
      "cell_type": "code",
      "source": [],
      "metadata": {
        "id": "L1jal6YCWjg5"
      },
      "execution_count": null,
      "outputs": []
    }
  ]
}